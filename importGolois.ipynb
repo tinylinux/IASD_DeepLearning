{
 "cells": [
  {
   "cell_type": "code",
   "execution_count": null,
   "metadata": {
    "colab": {
     "base_uri": "https://localhost:8080/"
    },
    "id": "ks7AjhAto2dV",
    "outputId": "47b5f9cf-784e-468e-d7fc-aea2d1c7742e"
   },
   "outputs": [
    {
     "name": "stdout",
     "output_type": "stream",
     "text": [
      "--2022-10-07 08:53:14--  https://www.lamsade.dauphine.fr/~cazenave/project2022.zip\n",
      "Résolution de www.lamsade.dauphine.fr (www.lamsade.dauphine.fr)… 64:ff9b::c130:47fa, 193.48.71.250\n",
      "Connexion à www.lamsade.dauphine.fr (www.lamsade.dauphine.fr)|64:ff9b::c130:47fa|:443… connecté.\n",
      "requête HTTP transmise, en attente de la réponse… 200 OK\n",
      "Taille : 138683867 (132M) [application/zip]\n",
      "Enregistre : ‘project2022.zip’\n",
      "\n",
      "project2022.zip     100%[===================>] 132,26M  94,7KB/s    ds 29m 28s \n",
      "\n",
      "2022-10-07 09:22:43 (76,6 KB/s) - ‘project2022.zip’ enregistré [138683867/138683867]\n",
      "\n",
      "Archive:  project2022.zip\n",
      "  inflating: Board.h                 \n",
      "  inflating: Game.h                  \n",
      "  inflating: Rzone.h                 \n",
      "  inflating: compile.sh              \n",
      "  inflating: compileMAC.sh           \n",
      "  inflating: games.data              \n",
      "  inflating: golois.cpp              \n",
      "  inflating: golois.cpython-37m-x86_64-linux-gnu.so  \n",
      "  inflating: golois.cpython-38-x86_64-linux-gnu.so  \n",
      "  inflating: golois.py               \n",
      "replace importGolois.ipynb? [y]es, [n]o, [A]ll, [N]one, [r]ename: "
     ]
    }
   ],
   "source": [
    "!wget https://www.lamsade.dauphine.fr/~cazenave/project2022.zip\n",
    "!unzip project2022.zip"
   ]
  },
  {
   "cell_type": "code",
   "execution_count": 2,
   "metadata": {},
   "outputs": [
    {
     "name": "stdout",
     "output_type": "stream",
     "text": [
      "3.10.6 | packaged by conda-forge | (main, Oct 24 2022, 16:02:16) [MSC v.1916 64 bit (AMD64)]\n"
     ]
    }
   ],
   "source": [
    "import sys\n",
    "print (sys.version)"
   ]
  },
  {
   "cell_type": "code",
   "execution_count": 5,
   "metadata": {},
   "outputs": [
    {
     "ename": "OSError",
     "evalue": "[WinError 193] %1 n’est pas une application Win32 valide",
     "output_type": "error",
     "traceback": [
      "\u001b[1;31m---------------------------------------------------------------------------\u001b[0m",
      "\u001b[1;31mOSError\u001b[0m                                   Traceback (most recent call last)",
      "\u001b[1;32m~\\AppData\\Local\\Temp\\ipykernel_80632\\1600760429.py\u001b[0m in \u001b[0;36m<module>\u001b[1;34m\u001b[0m\n\u001b[0;32m      1\u001b[0m \u001b[1;32mfrom\u001b[0m \u001b[0mctypes\u001b[0m \u001b[1;32mimport\u001b[0m \u001b[0mcdll\u001b[0m\u001b[1;33m\u001b[0m\u001b[1;33m\u001b[0m\u001b[0m\n\u001b[1;32m----> 2\u001b[1;33m \u001b[0mlib\u001b[0m \u001b[1;33m=\u001b[0m \u001b[0mcdll\u001b[0m\u001b[1;33m.\u001b[0m\u001b[0mLoadLibrary\u001b[0m\u001b[1;33m(\u001b[0m\u001b[1;34m'./golois.cpython-310-x86_64-linux-gnu.so'\u001b[0m\u001b[1;33m)\u001b[0m\u001b[1;33m\u001b[0m\u001b[1;33m\u001b[0m\u001b[0m\n\u001b[0m",
      "\u001b[1;32mc:\\Users\\ridal\\anaconda3\\envs\\deepl\\lib\\ctypes\\__init__.py\u001b[0m in \u001b[0;36mLoadLibrary\u001b[1;34m(self, name)\u001b[0m\n\u001b[0;32m    450\u001b[0m \u001b[1;33m\u001b[0m\u001b[0m\n\u001b[0;32m    451\u001b[0m     \u001b[1;32mdef\u001b[0m \u001b[0mLoadLibrary\u001b[0m\u001b[1;33m(\u001b[0m\u001b[0mself\u001b[0m\u001b[1;33m,\u001b[0m \u001b[0mname\u001b[0m\u001b[1;33m)\u001b[0m\u001b[1;33m:\u001b[0m\u001b[1;33m\u001b[0m\u001b[1;33m\u001b[0m\u001b[0m\n\u001b[1;32m--> 452\u001b[1;33m         \u001b[1;32mreturn\u001b[0m \u001b[0mself\u001b[0m\u001b[1;33m.\u001b[0m\u001b[0m_dlltype\u001b[0m\u001b[1;33m(\u001b[0m\u001b[0mname\u001b[0m\u001b[1;33m)\u001b[0m\u001b[1;33m\u001b[0m\u001b[1;33m\u001b[0m\u001b[0m\n\u001b[0m\u001b[0;32m    453\u001b[0m \u001b[1;33m\u001b[0m\u001b[0m\n\u001b[0;32m    454\u001b[0m     \u001b[0m__class_getitem__\u001b[0m \u001b[1;33m=\u001b[0m \u001b[0mclassmethod\u001b[0m\u001b[1;33m(\u001b[0m\u001b[0m_types\u001b[0m\u001b[1;33m.\u001b[0m\u001b[0mGenericAlias\u001b[0m\u001b[1;33m)\u001b[0m\u001b[1;33m\u001b[0m\u001b[1;33m\u001b[0m\u001b[0m\n",
      "\u001b[1;32mc:\\Users\\ridal\\anaconda3\\envs\\deepl\\lib\\ctypes\\__init__.py\u001b[0m in \u001b[0;36m__init__\u001b[1;34m(self, name, mode, handle, use_errno, use_last_error, winmode)\u001b[0m\n\u001b[0;32m    372\u001b[0m \u001b[1;33m\u001b[0m\u001b[0m\n\u001b[0;32m    373\u001b[0m         \u001b[1;32mif\u001b[0m \u001b[0mhandle\u001b[0m \u001b[1;32mis\u001b[0m \u001b[1;32mNone\u001b[0m\u001b[1;33m:\u001b[0m\u001b[1;33m\u001b[0m\u001b[1;33m\u001b[0m\u001b[0m\n\u001b[1;32m--> 374\u001b[1;33m             \u001b[0mself\u001b[0m\u001b[1;33m.\u001b[0m\u001b[0m_handle\u001b[0m \u001b[1;33m=\u001b[0m \u001b[0m_dlopen\u001b[0m\u001b[1;33m(\u001b[0m\u001b[0mself\u001b[0m\u001b[1;33m.\u001b[0m\u001b[0m_name\u001b[0m\u001b[1;33m,\u001b[0m \u001b[0mmode\u001b[0m\u001b[1;33m)\u001b[0m\u001b[1;33m\u001b[0m\u001b[1;33m\u001b[0m\u001b[0m\n\u001b[0m\u001b[0;32m    375\u001b[0m         \u001b[1;32melse\u001b[0m\u001b[1;33m:\u001b[0m\u001b[1;33m\u001b[0m\u001b[1;33m\u001b[0m\u001b[0m\n\u001b[0;32m    376\u001b[0m             \u001b[0mself\u001b[0m\u001b[1;33m.\u001b[0m\u001b[0m_handle\u001b[0m \u001b[1;33m=\u001b[0m \u001b[0mhandle\u001b[0m\u001b[1;33m\u001b[0m\u001b[1;33m\u001b[0m\u001b[0m\n",
      "\u001b[1;31mOSError\u001b[0m: [WinError 193] %1 n’est pas une application Win32 valide"
     ]
    }
   ],
   "source": [
    "from ctypes import cdll\n",
    "lib = cdll.LoadLibrary('./golois.cpython-310-x86_64-linux-gnu.so')\n"
   ]
  },
  {
   "cell_type": "code",
   "execution_count": 1,
   "metadata": {
    "colab": {
     "base_uri": "https://localhost:8080/"
    },
    "id": "SNxDy5hTfHs_",
    "outputId": "9a7e3322-45ee-4f72-8c97-d1fbe339780d"
   },
   "outputs": [
    {
     "name": "stdout",
     "output_type": "stream",
     "text": [
      "getValidation\n"
     ]
    },
    {
     "name": "stderr",
     "output_type": "stream",
     "text": [
      "Traceback (most recent call last):\n",
      "  File \"c:\\Users\\ridal\\Documents\\4A_ENS_PSL\\S1_DeepLearning\\IASD_DeepLearning\\golois.py\", line 8, in <module>\n",
      "    import golois\n",
      "  File \"c:\\Users\\ridal\\Documents\\4A_ENS_PSL\\S1_DeepLearning\\IASD_DeepLearning\\golois.py\", line 33, in <module>\n",
      "    golois.getValidation (input_data, policy, value, end)\n",
      "AttributeError: partially initialized module 'golois' has no attribute 'getValidation' (most likely due to a circular import)\n"
     ]
    }
   ],
   "source": [
    "!python golois.py"
   ]
  }
 ],
 "metadata": {
  "accelerator": "GPU",
  "colab": {
   "collapsed_sections": [],
   "name": "importGolois.ipynb",
   "provenance": []
  },
  "kernelspec": {
   "display_name": "Python 3.10.6 ('deepl')",
   "language": "python",
   "name": "python3"
  },
  "language_info": {
   "codemirror_mode": {
    "name": "ipython",
    "version": 3
   },
   "file_extension": ".py",
   "mimetype": "text/x-python",
   "name": "python",
   "nbconvert_exporter": "python",
   "pygments_lexer": "ipython3",
   "version": "3.10.6"
  },
  "vscode": {
   "interpreter": {
    "hash": "84ae601a9e63a6887a2acd86ae5c58ed87689bfe1f337b566ed6beb3ba95171a"
   }
  }
 },
 "nbformat": 4,
 "nbformat_minor": 1
}
